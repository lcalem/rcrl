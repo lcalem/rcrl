{
 "cells": [
  {
   "cell_type": "code",
   "execution_count": 1,
   "metadata": {},
   "outputs": [],
   "source": [
    "%load_ext autoreload\n",
    "%autoreload 2"
   ]
  },
  {
   "cell_type": "code",
   "execution_count": 2,
   "metadata": {},
   "outputs": [],
   "source": [
    "import tensorflow as tf\n",
    "import numpy as np\n",
    "import tensorflow.contrib.layers as layers"
   ]
  },
  {
   "cell_type": "code",
   "execution_count": 3,
   "metadata": {},
   "outputs": [],
   "source": [
    "import datetime\n",
    "import os\n",
    "import random\n",
    "\n",
    "from collections import deque, namedtuple"
   ]
  },
  {
   "cell_type": "code",
   "execution_count": 59,
   "metadata": {},
   "outputs": [],
   "source": [
    "from environment import CubeEnvironment"
   ]
  },
  {
   "cell_type": "code",
   "execution_count": 61,
   "metadata": {},
   "outputs": [],
   "source": [
    "Transition = namedtuple(\"Transition\", [\"state\", \"action\", \"reward\", \"next_state\", \"done\"])"
   ]
  },
  {
   "cell_type": "markdown",
   "metadata": {},
   "source": [
    "## Experience replay"
   ]
  },
  {
   "cell_type": "code",
   "execution_count": 75,
   "metadata": {},
   "outputs": [],
   "source": [
    "class PrioritizedExperienceReplay():\n",
    "    '''\n",
    "    alpha: tradeoff between sampling high priority transitions and random sampling\n",
    "    beta: used to compute importance sampling weights, increased from beta_start to 1.0 over the course of beta_steps\n",
    "    TL;DR of PER: https://medium.com/arxiv-bytes/summary-prioritized-experience-replay-e5f9257cef2d\n",
    "    '''\n",
    "    \n",
    "    def __init__(self, max_size=500000, alpha=0.6, beta_start=0.4, beta_steps=100000):\n",
    "        self._min_size = 10\n",
    "        self.max_size = max_size\n",
    "        self.replay_memory = []\n",
    "        self.priorities = np.zeros((max_size,), dtype=np.float32)\n",
    "        \n",
    "        self.alpha = alpha\n",
    "        self.beta = beta_start\n",
    "        self.beta_incr = (1.0 - beta_start) / beta_steps\n",
    "        \n",
    "        self.index = 0\n",
    "        self.priorities[0] = 1.0**alpha  # init the first max prob\n",
    "        \n",
    "    @property\n",
    "    def min_size(self):\n",
    "        return self._min_size\n",
    "        \n",
    "    def update_beta(self):\n",
    "        self.beta = min(1.0, self.beta + self.beta_incr)\n",
    "        \n",
    "    def get_probabilities(self):\n",
    "        '''\n",
    "        turn current priorities in probabilities\n",
    "        '''\n",
    "        size = len(self.replay_memory)\n",
    "        end_index = size if size < self.max_size else self.index\n",
    "        \n",
    "        prios = self.priorities[:end_index]\n",
    "        probs = prios / prios.sum()\n",
    "        return probs\n",
    "        \n",
    "    def insert(self, transition):\n",
    "        \n",
    "        # add the transition to the memory\n",
    "        if len(self.replay_memory) < self.max_size:\n",
    "            self.replay_memory.append(transition)\n",
    "        else:\n",
    "            self.replay_memory[self.index] = transition\n",
    "            \n",
    "        # update priorities and index\n",
    "        self.priorities[self.index] = self.priorities.max()\n",
    "        self.index = (self.index + 1) % self.max_size\n",
    "        \n",
    "    def sample(self, batch_size):\n",
    "        '''\n",
    "        sample a batch of transitions\n",
    "        '''\n",
    "        current_size = len(self.replay_memory)\n",
    "        \n",
    "        # samples\n",
    "        probs = self.get_probabilities()\n",
    "        indices = np.random.choice(current_size, batch_size, p=probs)\n",
    "        samples = [self.replay_memory[i] for i in indices]\n",
    "        #samples = random.sample(self.replay_memory, batch_size)\n",
    "        \n",
    "        # importance sampling weights\n",
    "        prob_min = probs.min()\n",
    "        max_weight = (prob_min * current_size)**(-self.beta)\n",
    "\n",
    "        is_weights  = (current_size * probs[indices]) ** (-self.beta)\n",
    "        is_weights /= max_weight  # to ensure it is not > 1\n",
    "        \n",
    "        self.update_beta()\n",
    "        return samples, is_weights\n",
    "    \n",
    "    def __len__(self):\n",
    "        return len(self.replay_memory)\n",
    "        "
   ]
  },
  {
   "cell_type": "code",
   "execution_count": 48,
   "metadata": {},
   "outputs": [],
   "source": [
    "def make_epsilon_greedy_policy(estimator, nb_actions):\n",
    "    \"\"\"\n",
    "    estimator: q_values estimator for a given state\n",
    "    nb_actions: number of possible actions in the environment\n",
    "\n",
    "    Returns:\n",
    "        A function that takes the (sess, state, epsilon) as an argument and returns\n",
    "        the probabilities for each action in the form of a numpy array of length nb_actions.\n",
    "\n",
    "    \"\"\"\n",
    "    def policy_fn(sess, observed_state, epsilon):\n",
    "        action_probs = np.ones(nb_actions, dtype=float) * epsilon / nb_actions\n",
    "        q_values = estimator.predict(sess, np.expand_dims(np.expand_dims(observed_state, 0), 3))[0]\n",
    "        best_action = np.argmax(q_values)\n",
    "        \n",
    "        action_probs[best_action] += (1.0 - epsilon)\n",
    "        return action_probs\n",
    "    \n",
    "    return policy_fn\n",
    "\n",
    "\n",
    "def greedy_policy(sess, estimator, observed_state, nb_actions, epsilon):\n",
    "    action_probs = np.ones(nb_actions, dtype=float) * epsilon / nb_actions\n",
    "    q_values = estimator.predict(sess, np.expand_dims(np.expand_dims(observed_state, 0), 3))[0]\n",
    "    best_action = np.argmax(q_values)\n",
    "        \n",
    "    action_probs[best_action] += (1.0 - epsilon)\n",
    "    return action_probs"
   ]
  },
  {
   "cell_type": "markdown",
   "metadata": {},
   "source": [
    "## Estimator"
   ]
  },
  {
   "cell_type": "code",
   "execution_count": 7,
   "metadata": {},
   "outputs": [],
   "source": [
    "class Estimator():\n",
    "    '''\n",
    "    Q-Value Estimator neural network.\n",
    "\n",
    "    This network is used for both the Q-Network and the Target Network.\n",
    "    '''\n",
    "\n",
    "    def __init__(self, actions, scope=\"estimator\"):\n",
    "        self.valid_actions = actions\n",
    "        self.scope = scope\n",
    "\n",
    "        with tf.variable_scope(scope):\n",
    "            # Build the graph\n",
    "            self._build_model()\n",
    "\n",
    "    def _build_model(self):\n",
    "        '''\n",
    "        TODO at like wn\n",
    "        '''\n",
    "\n",
    "        # Placeholders for our input\n",
    "        self.X_pl = tf.placeholder(shape=[None, 1, 54, 1], dtype=tf.uint8, name=\"X\")\n",
    "        # The TD target value\n",
    "        self.y_pl = tf.placeholder(shape=[None], dtype=tf.float32, name=\"y\")\n",
    "        # Integer id of which action was selected\n",
    "        self.actions_pl = tf.placeholder(shape=[None], dtype=tf.int32, name=\"actions\")\n",
    "\n",
    "        batch_size = tf.shape(self.X_pl)[0]\n",
    "        X = tf.to_float(self.X_pl)\n",
    "        \n",
    "        # conv\n",
    "        conv1 = layers.conv2d(X, 32, [1,3] , activation_fn=tf.nn.relu)\n",
    "        conv2 = layers.conv2d(conv1, 64, [1,3] , activation_fn=tf.nn.relu)\n",
    "        conv3 = layers.conv2d(conv2, 64, [1,3] , activation_fn=tf.nn.relu)\n",
    "\n",
    "        # fc\n",
    "        flattened = tf.contrib.layers.flatten(conv3)\n",
    "        fc1 = tf.contrib.layers.fully_connected(flattened, 512)\n",
    "        self.predictions = tf.contrib.layers.fully_connected(fc1, len(self.valid_actions))\n",
    "\n",
    "        # Get the predictions for the chosen actions only\n",
    "        gather_indices = tf.range(batch_size) * tf.shape(self.predictions)[1] + self.actions_pl\n",
    "        self.action_predictions = tf.gather(tf.reshape(self.predictions, [-1]), gather_indices)\n",
    "\n",
    "        # Calculate the loss\n",
    "        self.losses = tf.squared_difference(self.y_pl, self.action_predictions)\n",
    "        self.loss = tf.reduce_mean(self.losses)\n",
    "\n",
    "        # Optimizer Parameters from original paper\n",
    "        self.optimizer = tf.train.RMSPropOptimizer(0.00025, 0.99, 0.0, 1e-6)\n",
    "        self.train_op = self.optimizer.minimize(self.loss, global_step=tf.train.get_global_step())\n",
    "        \n",
    "    def predict(self, sess, s):\n",
    "        \"\"\"\n",
    "        Predicts action values.\n",
    "\n",
    "        Args:\n",
    "          sess: Tensorflow session\n",
    "          s: State input of shape [batch_size, 4, 160, 160, 3]\n",
    "\n",
    "        Returns:\n",
    "          Tensor of shape [batch_size, NUM_VALID_ACTIONS] containing the estimated \n",
    "          action values.\n",
    "        \"\"\"\n",
    "        return sess.run(self.predictions, { self.X_pl: s })\n",
    "\n",
    "    def update(self, sess, s, a, y):\n",
    "        \"\"\"\n",
    "        Updates the estimator towards the given targets.\n",
    "\n",
    "        Args:\n",
    "          sess: Tensorflow session object\n",
    "          s: State input of shape [batch_size, 4, 160, 160, 3]\n",
    "          a: Chosen actions of shape [batch_size]\n",
    "          y: Targets of shape [batch_size]\n",
    "\n",
    "        Returns:\n",
    "          The calculated loss on the batch.\n",
    "        \"\"\"\n",
    "        feed_dict = { self.X_pl: s, self.y_pl: y, self.actions_pl: a }\n",
    "        global_step, _, loss = sess.run(\n",
    "            [tf.train.get_global_step(), self.train_op, self.loss],\n",
    "            feed_dict)\n",
    "        return loss"
   ]
  },
  {
   "cell_type": "markdown",
   "metadata": {},
   "source": [
    "## Main DQN function"
   ]
  },
  {
   "cell_type": "code",
   "execution_count": 58,
   "metadata": {},
   "outputs": [],
   "source": [
    "def learning(sess,\n",
    "             env,\n",
    "             epsilon_start=1.0,\n",
    "             epsilon_end=0.1,\n",
    "             epsilon_decay_steps=500000):\n",
    "    \n",
    "    # saving things (from docker)\n",
    "    exp_dir = \"/workspace/experiments/exp%s\" % datetime.datetime.now().strftime(\"%Y%m%d%H%M\")\n",
    "    checkpoint_dir = os.path.join(exp_dir, \"checkpoints\")\n",
    "    os.makedirs(checkpoint_dir, exist_ok=True)\n",
    "    \n",
    "    valid_actions = env.get_action_space()\n",
    "    print(\"VALID ACTIONS: %s\" % str(valid_actions))\n",
    "    \n",
    "    # estimators\n",
    "    q_estimator = Estimator(valid_actions, scope=\"q_estimator\")\n",
    "    target_estimator = Estimator(valid_actions, scope=\"target_q\")\n",
    "    sess.run(tf.global_variables_initializer())\n",
    "    \n",
    "    saver = tf.train.Saver()\n",
    "    \n",
    "    # loading checkpoint\n",
    "    latest_checkpoint = tf.train.latest_checkpoint(checkpoint_dir)\n",
    "    if latest_checkpoint:\n",
    "        print(\"Loading model checkpoint %s ...\" % latest_checkpoint)\n",
    "        saver.restore(sess, latest_checkpoint)\n",
    "        \n",
    "    # the policy we're following\n",
    "    policy = make_epsilon_greedy_policy(q_estimator, len(valid_actions))\n",
    "    \n",
    "    # epsilon decay schedule for epsilon-greedy policy\n",
    "    epsilons = np.linspace(epsilon_start, epsilon_end, epsilon_decay_steps)\n",
    "    \n",
    "    # replay memory\n",
    "    replay = PrioritizedExperienceReplay()\n",
    "    global_step = sess.run(tf.train.get_global_step())\n",
    "    epsilon = epsilons[min(global_step, epsilon_decay_steps-1)]\n",
    "    populate_replay(replay, sess, env, q_estimator, epsilon, len(valid_actions))\n",
    "    \n",
    "    # main loop for episodes\n",
    "    for i_episode in range(num_episodes):\n",
    "        print(\"Starting episode %s\" % i_episode)\n",
    "        \n",
    "        # save checkpoint for each episode\n",
    "        saver.save(tf.get_default_session(), checkpoint_path)\n",
    "        \n",
    "        state = env.init_cube()\n",
    "        \n",
    "        # one step in the environment\n",
    "        for t in itertools.count():\n",
    "\n",
    "            # Epsilon for this time step\n",
    "            epsilon = epsilons[min(total_t, epsilon_decay_steps - 1)]"
   ]
  },
  {
   "cell_type": "code",
   "execution_count": 67,
   "metadata": {},
   "outputs": [],
   "source": [
    "def populate_replay(replay, sess, env, q_estimator, epsilon, nb_actions):\n",
    "    '''\n",
    "    populate replay memory with initial experience \n",
    "    with more and more distance from the solved cube\n",
    "    '''\n",
    "    print(\"Populating experience replay...\")\n",
    "    state = env.init_cube()\n",
    "\n",
    "    for i in range(replay.min_size):\n",
    "        action_probs = greedy_policy(sess, q_estimator, state, nb_actions, epsilon)\n",
    "        action = np.random.choice(np.arange(len(action_probs)), p=action_probs)\n",
    "        next_state, reward, solved = env.take_action(action)\n",
    "\n",
    "        replay.insert(Transition(state, action, reward, next_state, solved))\n",
    "        \n",
    "        # we start again if the cube was solved\n",
    "        state = env.init_cube() if solved else next_state\n",
    "        \n",
    "    print(\"Experience replay populated with %s transitions.\" % len(replay))\n",
    "    \n",
    "    # testing\n",
    "    print(replay.sample(10))"
   ]
  },
  {
   "cell_type": "code",
   "execution_count": 54,
   "metadata": {},
   "outputs": [],
   "source": [
    "def copy_model_parameters(sess, estimator1, estimator2):\n",
    "    '''\n",
    "    Copy the parameters from estimator 1 to estimator 2\n",
    "    '''\n",
    "    e1_params = [t for t in tf.trainable_variables() if t.name.startswith(estimator1.scope)]\n",
    "    e1_params = sorted(e1_params, key=lambda v: v.name)\n",
    "    e2_params = [t for t in tf.trainable_variables() if t.name.startswith(estimator2.scope)]\n",
    "    e2_params = sorted(e2_params, key=lambda v: v.name)\n",
    "\n",
    "    update_ops = []\n",
    "    for e1_v, e2_v in zip(e1_params, e2_params):\n",
    "        op = e2_v.assign(e1_v)\n",
    "        update_ops.append(op)\n",
    "        \n",
    "    sess.run(update_ops)"
   ]
  },
  {
   "cell_type": "markdown",
   "metadata": {},
   "source": [
    "## Main entrypoint"
   ]
  },
  {
   "cell_type": "code",
   "execution_count": 76,
   "metadata": {},
   "outputs": [
    {
     "name": "stdout",
     "output_type": "stream",
     "text": [
      "VALID ACTIONS: [0, 1, 2, 3, 4, 5, 6, 7, 8, 9, 10, 11, 12, 13]\n"
     ]
    },
    {
     "name": "stderr",
     "output_type": "stream",
     "text": [
      "/usr/local/lib/python3.6/site-packages/tensorflow/python/ops/gradients_impl.py:108: UserWarning: Converting sparse IndexedSlices to a dense Tensor of unknown shape. This may consume a large amount of memory.\n",
      "  \"Converting sparse IndexedSlices to a dense Tensor of unknown shape. \"\n"
     ]
    },
    {
     "name": "stdout",
     "output_type": "stream",
     "text": [
      "Populating experience replay...\n",
      "Experience replay populated with 10 transitions.\n",
      "([Transition(state=matrix([[4, 5, 1, 0, 4, 1, 2, 2, 3, 2, 3, 0, 1, 0, 3, 2, 3, 4, 5, 0, 5,\n",
      "         2, 5, 5, 4, 1, 0, 5, 5, 4, 2, 2, 4, 5, 2, 2, 0, 4, 1, 5, 1, 3,\n",
      "         0, 0, 3, 1, 4, 1, 0, 3, 1, 3, 4, 3]]), action=2, reward=-1, next_state=matrix([[2, 5, 1, 1, 4, 1, 2, 2, 3, 0, 3, 0, 5, 0, 3, 5, 3, 4, 5, 0, 5,\n",
      "         2, 5, 2, 4, 1, 5, 4, 5, 4, 0, 2, 4, 2, 2, 2, 0, 4, 1, 5, 1, 3,\n",
      "         0, 0, 3, 3, 0, 1, 4, 3, 4, 3, 1, 1]]), done=False), Transition(state=matrix([[5, 5, 1, 2, 3, 1, 2, 2, 0, 4, 2, 1, 0, 0, 3, 3, 3, 4, 5, 3, 2,\n",
      "         0, 1, 1, 2, 4, 4, 5, 5, 1, 2, 2, 1, 0, 0, 3, 0, 4, 2, 0, 4, 3,\n",
      "         5, 5, 4, 1, 5, 0, 4, 5, 1, 3, 4, 3]]), action=8, reward=-1, next_state=matrix([[5, 5, 1, 2, 3, 1, 3, 4, 3, 4, 2, 1, 0, 0, 3, 3, 3, 4, 5, 3, 2,\n",
      "         0, 1, 1, 5, 5, 4, 0, 2, 5, 0, 2, 5, 3, 1, 1, 0, 4, 2, 0, 4, 3,\n",
      "         2, 2, 0, 1, 5, 0, 4, 5, 1, 2, 4, 4]]), done=False), Transition(state=matrix([[0, 4, 1, 0, 4, 1, 2, 2, 3, 2, 1, 2, 3, 0, 3, 4, 3, 0, 1, 4, 1,\n",
      "         2, 5, 5, 4, 1, 0, 5, 5, 4, 2, 2, 4, 5, 2, 2, 5, 0, 5, 5, 1, 3,\n",
      "         0, 0, 3, 4, 5, 1, 0, 3, 1, 3, 4, 3]]), action=7, reward=-1, next_state=matrix([[4, 5, 1, 0, 4, 1, 2, 2, 3, 2, 3, 0, 1, 0, 3, 2, 3, 4, 5, 0, 5,\n",
      "         2, 5, 5, 4, 1, 0, 5, 5, 4, 2, 2, 4, 5, 2, 2, 0, 4, 1, 5, 1, 3,\n",
      "         0, 0, 3, 1, 4, 1, 0, 3, 1, 3, 4, 3]]), done=False), Transition(state=matrix([[5, 5, 1, 2, 3, 3, 2, 2, 4, 0, 0, 0, 0, 0, 0, 3, 3, 5, 4, 4, 1,\n",
      "         1, 1, 1, 2, 3, 3, 5, 5, 1, 2, 2, 1, 2, 2, 4, 2, 3, 3, 4, 4, 4,\n",
      "         0, 0, 1, 5, 5, 0, 5, 5, 1, 4, 4, 3]]), action=10, reward=-1, next_state=matrix([[5, 5, 1, 2, 3, 3, 2, 2, 4, 3, 4, 1, 0, 0, 0, 3, 3, 5, 2, 1, 4,\n",
      "         3, 1, 4, 3, 1, 1, 5, 5, 1, 2, 2, 1, 5, 5, 4, 2, 3, 4, 4, 4, 2,\n",
      "         0, 0, 2, 0, 5, 0, 0, 5, 1, 0, 4, 3]]), done=False), Transition(state=matrix([[5, 5, 1, 2, 3, 3, 2, 2, 4, 3, 4, 1, 0, 0, 0, 3, 3, 5, 2, 1, 4,\n",
      "         3, 1, 4, 3, 1, 1, 5, 5, 1, 2, 2, 1, 5, 5, 4, 2, 3, 4, 4, 4, 2,\n",
      "         0, 0, 2, 0, 5, 0, 0, 5, 1, 0, 4, 3]]), action=10, reward=-1, next_state=matrix([[5, 5, 1, 2, 3, 3, 2, 2, 4, 4, 2, 2, 0, 0, 0, 3, 3, 5, 3, 3, 2,\n",
      "         1, 1, 1, 1, 4, 4, 5, 5, 1, 2, 2, 1, 0, 0, 0, 2, 3, 4, 4, 4, 5,\n",
      "         0, 0, 5, 1, 5, 0, 4, 5, 1, 3, 4, 3]]), done=False), Transition(state=matrix([[0, 4, 2, 0, 4, 3, 2, 2, 0, 2, 1, 4, 3, 0, 2, 4, 3, 1, 2, 4, 1,\n",
      "         4, 5, 5, 4, 1, 0, 5, 5, 1, 2, 2, 1, 5, 2, 3, 5, 3, 3, 0, 1, 0,\n",
      "         5, 5, 0, 4, 5, 1, 0, 3, 1, 3, 4, 3]]), action=0, reward=-1, next_state=matrix([[0, 4, 1, 0, 4, 1, 2, 2, 3, 2, 1, 2, 3, 0, 3, 4, 3, 0, 1, 4, 1,\n",
      "         2, 5, 5, 4, 1, 0, 5, 5, 4, 2, 2, 4, 5, 2, 2, 5, 0, 5, 5, 1, 3,\n",
      "         0, 0, 3, 4, 5, 1, 0, 3, 1, 3, 4, 3]]), done=False), Transition(state=matrix([[4, 5, 1, 0, 4, 1, 2, 2, 3, 2, 3, 0, 1, 0, 3, 2, 3, 4, 5, 0, 5,\n",
      "         2, 5, 5, 4, 1, 0, 5, 5, 4, 2, 2, 4, 5, 2, 2, 0, 4, 1, 5, 1, 3,\n",
      "         0, 0, 3, 1, 4, 1, 0, 3, 1, 3, 4, 3]]), action=2, reward=-1, next_state=matrix([[2, 5, 1, 1, 4, 1, 2, 2, 3, 0, 3, 0, 5, 0, 3, 5, 3, 4, 5, 0, 5,\n",
      "         2, 5, 2, 4, 1, 5, 4, 5, 4, 0, 2, 4, 2, 2, 2, 0, 4, 1, 5, 1, 3,\n",
      "         0, 0, 3, 3, 0, 1, 4, 3, 4, 3, 1, 1]]), done=False), Transition(state=matrix([[5, 5, 1, 2, 3, 3, 2, 2, 4, 3, 4, 1, 0, 0, 0, 3, 3, 5, 2, 1, 4,\n",
      "         3, 1, 4, 3, 1, 1, 5, 5, 1, 2, 2, 1, 5, 5, 4, 2, 3, 4, 4, 4, 2,\n",
      "         0, 0, 2, 0, 5, 0, 0, 5, 1, 0, 4, 3]]), action=10, reward=-1, next_state=matrix([[5, 5, 1, 2, 3, 3, 2, 2, 4, 4, 2, 2, 0, 0, 0, 3, 3, 5, 3, 3, 2,\n",
      "         1, 1, 1, 1, 4, 4, 5, 5, 1, 2, 2, 1, 0, 0, 0, 2, 3, 4, 4, 4, 5,\n",
      "         0, 0, 5, 1, 5, 0, 4, 5, 1, 3, 4, 3]]), done=False), Transition(state=matrix([[5, 5, 1, 2, 3, 3, 2, 2, 4, 0, 0, 0, 0, 0, 0, 3, 3, 5, 4, 4, 1,\n",
      "         1, 1, 1, 2, 3, 3, 5, 5, 1, 2, 2, 1, 2, 2, 4, 2, 3, 3, 4, 4, 4,\n",
      "         0, 0, 1, 5, 5, 0, 5, 5, 1, 4, 4, 3]]), action=10, reward=-1, next_state=matrix([[5, 5, 1, 2, 3, 3, 2, 2, 4, 3, 4, 1, 0, 0, 0, 3, 3, 5, 2, 1, 4,\n",
      "         3, 1, 4, 3, 1, 1, 5, 5, 1, 2, 2, 1, 5, 5, 4, 2, 3, 4, 4, 4, 2,\n",
      "         0, 0, 2, 0, 5, 0, 0, 5, 1, 0, 4, 3]]), done=False), Transition(state=matrix([[5, 5, 1, 2, 3, 3, 2, 2, 4, 3, 4, 1, 0, 0, 0, 3, 3, 5, 2, 1, 4,\n",
      "         3, 1, 4, 3, 1, 1, 5, 5, 1, 2, 2, 1, 5, 5, 4, 2, 3, 4, 4, 4, 2,\n",
      "         0, 0, 2, 0, 5, 0, 0, 5, 1, 0, 4, 3]]), action=10, reward=-1, next_state=matrix([[5, 5, 1, 2, 3, 3, 2, 2, 4, 4, 2, 2, 0, 0, 0, 3, 3, 5, 3, 3, 2,\n",
      "         1, 1, 1, 1, 4, 4, 5, 5, 1, 2, 2, 1, 0, 0, 0, 2, 3, 4, 4, 4, 5,\n",
      "         0, 0, 5, 1, 5, 0, 4, 5, 1, 3, 4, 3]]), done=False)], array([1., 1., 1., 1., 1., 1., 1., 1., 1., 1.], dtype=float32))\n"
     ]
    },
    {
     "ename": "NameError",
     "evalue": "name 'num_episodes' is not defined",
     "output_type": "error",
     "traceback": [
      "\u001b[0;31m---------------------------------------------------------------------------\u001b[0m",
      "\u001b[0;31mNameError\u001b[0m                                 Traceback (most recent call last)",
      "\u001b[0;32m<ipython-input-76-fb4e113a5beb>\u001b[0m in \u001b[0;36m<module>\u001b[0;34m()\u001b[0m\n\u001b[1;32m     10\u001b[0m     \u001b[0msess\u001b[0m\u001b[0;34m.\u001b[0m\u001b[0mrun\u001b[0m\u001b[0;34m(\u001b[0m\u001b[0mtf\u001b[0m\u001b[0;34m.\u001b[0m\u001b[0mglobal_variables_initializer\u001b[0m\u001b[0;34m(\u001b[0m\u001b[0;34m)\u001b[0m\u001b[0;34m)\u001b[0m\u001b[0;34m\u001b[0m\u001b[0m\n\u001b[1;32m     11\u001b[0m     for t, stats in learning(sess,\n\u001b[0;32m---> 12\u001b[0;31m                              env):\n\u001b[0m\u001b[1;32m     13\u001b[0m         \u001b[0mprint\u001b[0m\u001b[0;34m(\u001b[0m\u001b[0mstats\u001b[0m\u001b[0;34m)\u001b[0m\u001b[0;34m\u001b[0m\u001b[0m\n",
      "\u001b[0;32m<ipython-input-58-2d63c280ec36>\u001b[0m in \u001b[0;36mlearning\u001b[0;34m(sess, env, epsilon_start, epsilon_end, epsilon_decay_steps)\u001b[0m\n\u001b[1;32m     41\u001b[0m \u001b[0;34m\u001b[0m\u001b[0m\n\u001b[1;32m     42\u001b[0m     \u001b[0;31m# main loop for episodes\u001b[0m\u001b[0;34m\u001b[0m\u001b[0;34m\u001b[0m\u001b[0m\n\u001b[0;32m---> 43\u001b[0;31m     \u001b[0;32mfor\u001b[0m \u001b[0mi_episode\u001b[0m \u001b[0;32min\u001b[0m \u001b[0mrange\u001b[0m\u001b[0;34m(\u001b[0m\u001b[0mnum_episodes\u001b[0m\u001b[0;34m)\u001b[0m\u001b[0;34m:\u001b[0m\u001b[0;34m\u001b[0m\u001b[0m\n\u001b[0m\u001b[1;32m     44\u001b[0m         \u001b[0mprint\u001b[0m\u001b[0;34m(\u001b[0m\u001b[0;34m\"Starting episode %s\"\u001b[0m \u001b[0;34m%\u001b[0m \u001b[0mi_episode\u001b[0m\u001b[0;34m)\u001b[0m\u001b[0;34m\u001b[0m\u001b[0m\n\u001b[1;32m     45\u001b[0m \u001b[0;34m\u001b[0m\u001b[0m\n",
      "\u001b[0;31mNameError\u001b[0m: name 'num_episodes' is not defined"
     ]
    }
   ],
   "source": [
    "tf.reset_default_graph()\n",
    "\n",
    "env = CubeEnvironment()\n",
    "\n",
    "# global step variable\n",
    "global_step = tf.Variable(0, name='global_step', trainable=False)\n",
    "\n",
    "# main run\n",
    "with tf.Session() as sess:\n",
    "    sess.run(tf.global_variables_initializer())\n",
    "    for t, stats in learning(sess,\n",
    "                             env):\n",
    "        print(stats)"
   ]
  },
  {
   "cell_type": "markdown",
   "metadata": {},
   "source": [
    "## Debug"
   ]
  },
  {
   "cell_type": "code",
   "execution_count": null,
   "metadata": {},
   "outputs": [],
   "source": [
    "import sys\n",
    "sys.path"
   ]
  },
  {
   "cell_type": "code",
   "execution_count": 66,
   "metadata": {},
   "outputs": [
    {
     "ename": "NameError",
     "evalue": "name 'replay' is not defined",
     "output_type": "error",
     "traceback": [
      "\u001b[0;31m---------------------------------------------------------------------------\u001b[0m",
      "\u001b[0;31mNameError\u001b[0m                                 Traceback (most recent call last)",
      "\u001b[0;32m<ipython-input-66-2e3ed392b175>\u001b[0m in \u001b[0;36m<module>\u001b[0;34m()\u001b[0m\n\u001b[0;32m----> 1\u001b[0;31m \u001b[0mreplay\u001b[0m\u001b[0;34m.\u001b[0m\u001b[0msample\u001b[0m\u001b[0;34m(\u001b[0m\u001b[0;34m)\u001b[0m\u001b[0;34m\u001b[0m\u001b[0m\n\u001b[0m",
      "\u001b[0;31mNameError\u001b[0m: name 'replay' is not defined"
     ]
    }
   ],
   "source": [
    "replay.sample()"
   ]
  },
  {
   "cell_type": "code",
   "execution_count": null,
   "metadata": {},
   "outputs": [],
   "source": []
  }
 ],
 "metadata": {
  "kernelspec": {
   "display_name": "Python 3",
   "language": "python",
   "name": "python3"
  },
  "language_info": {
   "codemirror_mode": {
    "name": "ipython",
    "version": 3
   },
   "file_extension": ".py",
   "mimetype": "text/x-python",
   "name": "python",
   "nbconvert_exporter": "python",
   "pygments_lexer": "ipython3",
   "version": "3.6.6"
  }
 },
 "nbformat": 4,
 "nbformat_minor": 2
}
