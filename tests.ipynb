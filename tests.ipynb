{
 "cells": [
  {
   "cell_type": "code",
   "execution_count": 1,
   "metadata": {},
   "outputs": [],
   "source": [
    "%load_ext autoreload\n",
    "%autoreload 2"
   ]
  },
  {
   "cell_type": "code",
   "execution_count": 2,
   "metadata": {},
   "outputs": [],
   "source": [
    "import tensorflow as tf\n",
    "import numpy as np\n",
    "import tensorflow.contrib.layers as layers"
   ]
  },
  {
   "cell_type": "code",
   "execution_count": 3,
   "metadata": {},
   "outputs": [],
   "source": [
    "import datetime\n",
    "import os\n",
    "import random\n",
    "\n",
    "from collections import deque, namedtuple"
   ]
  },
  {
   "cell_type": "code",
   "execution_count": 4,
   "metadata": {},
   "outputs": [],
   "source": [
    "from environment import CubeEnvironment"
   ]
  },
  {
   "cell_type": "markdown",
   "metadata": {},
   "source": [
    "## Experience replay"
   ]
  },
  {
   "cell_type": "code",
   "execution_count": 6,
   "metadata": {},
   "outputs": [],
   "source": [
    "class PrioritizedExperienceReplay():\n",
    "    '''\n",
    "    alpha: tradeoff between sampling high priority transitions and random sampling\n",
    "    beta: used to compute importance sampling weights, increased from beta_start to 1.0 over the course of beta_steps\n",
    "    TL;DR of PER: https://medium.com/arxiv-bytes/summary-prioritized-experience-replay-e5f9257cef2d\n",
    "    '''\n",
    "    \n",
    "    def __init__(self, max_size=500000, alpha=0.6, beta_start=0.4, beta_steps=100000):\n",
    "        self._min_size = 10\n",
    "        self.max_size = max_size\n",
    "        self.replay_memory = []\n",
    "        self.priorities = np.zeros((max_size,), dtype=np.float32)\n",
    "        \n",
    "        self.alpha = alpha\n",
    "        self.beta = beta_start\n",
    "        self.beta_incr = (1.0 - beta_start) / beta_steps\n",
    "        \n",
    "        self.index = 0\n",
    "        self.priorities[0] = 1.0**alpha  # init the first max prob\n",
    "        \n",
    "    @property\n",
    "    def min_size(self):\n",
    "        return self._min_size\n",
    "        \n",
    "    def update_beta(self):\n",
    "        self.beta = min(1.0, self.beta + self.beta_incr)\n",
    "        \n",
    "    def get_probabilities(self):\n",
    "        '''\n",
    "        turn current priorities in probabilities\n",
    "        '''\n",
    "        size = len(self.replay_memory)\n",
    "        end_index = size if size < self.max_size else self.index\n",
    "        \n",
    "        prios = self.priorities[:end_index]\n",
    "        probs = prios / prios.sum()\n",
    "        \n",
    "    def insert(self, transition):\n",
    "        \n",
    "        # add the transition to the memory\n",
    "        if len(self.replay_memory) < self.max_size:\n",
    "            self.replay_memory.append(transition)\n",
    "        else:\n",
    "            self.replay_memory[self.index] = transition\n",
    "            \n",
    "        # update priorities and index\n",
    "        self.priorities[self.index] = self.priorities.max()\n",
    "        self.index = (self.index + 1) % self.max_size\n",
    "        \n",
    "    def sample(self, batch_size):\n",
    "        '''\n",
    "        sample a batch of transitions\n",
    "        TODO: weigths\n",
    "        '''\n",
    "        current_size = len(replay_buffer)\n",
    "        \n",
    "        # samples\n",
    "        probs = self.get_probabilities()\n",
    "        indices = np.random.choice(current_size, batch_size, p=probs)\n",
    "        samples = [self.replay_memory[i] for i in indices]\n",
    "        #samples = random.sample(self.replay_memory, batch_size)\n",
    "        \n",
    "        # importance sampling weights\n",
    "        prob_min = probs.min()\n",
    "        max_weight = (prob_min * total)**(-beta)\n",
    "\n",
    "        is_weights  = (current_size * probs[indices]) ** (-self.beta)\n",
    "        is_weights /= max_weight  # to ensure it is not > 1\n",
    "        \n",
    "        self.update_beta()\n",
    "        return samples, is_weights\n",
    "        "
   ]
  },
  {
   "cell_type": "markdown",
   "metadata": {},
   "source": [
    "## Estimator"
   ]
  },
  {
   "cell_type": "code",
   "execution_count": 7,
   "metadata": {},
   "outputs": [],
   "source": [
    "class Estimator():\n",
    "    '''\n",
    "    Q-Value Estimator neural network.\n",
    "\n",
    "    This network is used for both the Q-Network and the Target Network.\n",
    "    '''\n",
    "\n",
    "    def __init__(self, actions, scope=\"estimator\"):\n",
    "        self.valid_actions = actions\n",
    "        self.scope = scope\n",
    "\n",
    "        with tf.variable_scope(scope):\n",
    "            # Build the graph\n",
    "            self._build_model()\n",
    "\n",
    "    def _build_model(self):\n",
    "        '''\n",
    "        TODO at like wn\n",
    "        '''\n",
    "\n",
    "        # Placeholders for our input\n",
    "        self.X_pl = tf.placeholder(shape=[None, 1, 54, 1], dtype=tf.uint8, name=\"X\")\n",
    "        # The TD target value\n",
    "        self.y_pl = tf.placeholder(shape=[None], dtype=tf.float32, name=\"y\")\n",
    "        # Integer id of which action was selected\n",
    "        self.actions_pl = tf.placeholder(shape=[None], dtype=tf.int32, name=\"actions\")\n",
    "\n",
    "        batch_size = tf.shape(self.X_pl)[0]\n",
    "        X = tf.to_float(self.X_pl)\n",
    "        \n",
    "        # conv\n",
    "        conv1 = layers.conv2d(X, 32, [1,3] , activation_fn=tf.nn.relu)\n",
    "        conv2 = layers.conv2d(conv1, 64, [1,3] , activation_fn=tf.nn.relu)\n",
    "        conv3 = layers.conv2d(conv2, 64, [1,3] , activation_fn=tf.nn.relu)\n",
    "\n",
    "        # fc\n",
    "        flattened = tf.contrib.layers.flatten(conv3)\n",
    "        fc1 = tf.contrib.layers.fully_connected(flattened, 512)\n",
    "        self.predictions = tf.contrib.layers.fully_connected(fc1, len(self.valid_actions))\n",
    "\n",
    "        # Get the predictions for the chosen actions only\n",
    "        gather_indices = tf.range(batch_size) * tf.shape(self.predictions)[1] + self.actions_pl\n",
    "        self.action_predictions = tf.gather(tf.reshape(self.predictions, [-1]), gather_indices)\n",
    "\n",
    "        # Calculate the loss\n",
    "        self.losses = tf.squared_difference(self.y_pl, self.action_predictions)\n",
    "        self.loss = tf.reduce_mean(self.losses)\n",
    "\n",
    "        # Optimizer Parameters from original paper\n",
    "        self.optimizer = tf.train.RMSPropOptimizer(0.00025, 0.99, 0.0, 1e-6)\n",
    "        self.train_op = self.optimizer.minimize(self.loss, global_step=tf.train.get_global_step())\n",
    "        \n",
    "    def predict(self, sess, s):\n",
    "        \"\"\"\n",
    "        Predicts action values.\n",
    "\n",
    "        Args:\n",
    "          sess: Tensorflow session\n",
    "          s: State input of shape [batch_size, 4, 160, 160, 3]\n",
    "\n",
    "        Returns:\n",
    "          Tensor of shape [batch_size, NUM_VALID_ACTIONS] containing the estimated \n",
    "          action values.\n",
    "        \"\"\"\n",
    "        return sess.run(self.predictions, { self.X_pl: s })\n",
    "\n",
    "    def update(self, sess, s, a, y):\n",
    "        \"\"\"\n",
    "        Updates the estimator towards the given targets.\n",
    "\n",
    "        Args:\n",
    "          sess: Tensorflow session object\n",
    "          s: State input of shape [batch_size, 4, 160, 160, 3]\n",
    "          a: Chosen actions of shape [batch_size]\n",
    "          y: Targets of shape [batch_size]\n",
    "\n",
    "        Returns:\n",
    "          The calculated loss on the batch.\n",
    "        \"\"\"\n",
    "        feed_dict = { self.X_pl: s, self.y_pl: y, self.actions_pl: a }\n",
    "        global_step, _, loss = sess.run(\n",
    "            [tf.train.get_global_step(), self.train_op, self.loss],\n",
    "            feed_dict)\n",
    "        return loss"
   ]
  },
  {
   "cell_type": "markdown",
   "metadata": {},
   "source": [
    "## Main DQN function"
   ]
  },
  {
   "cell_type": "code",
   "execution_count": 8,
   "metadata": {},
   "outputs": [],
   "source": [
    "def learning(sess,\n",
    "             env):\n",
    "    \n",
    "    Transition = namedtuple(\"Transition\", [\"state\", \"action\", \"reward\", \"next_state\", \"done\"])\n",
    "    \n",
    "    # saving things (from docker)\n",
    "    exp_dir = \"/workspace/experiments/exp%s\" % datetime.datetime.now().strftime(\"%Y%m%d%H%M\")\n",
    "    checkpoint_dir = os.path.join(exp_dir, \"checkpoints\")\n",
    "    os.makedirs(checkpoint_dir, exist_ok=True)\n",
    "    \n",
    "    # estimators\n",
    "    q_estimator = Estimator(env.get_action_space(), scope=\"q_estimator\")\n",
    "    target_estimator = Estimator(env.get_action_space(), scope=\"target_q\")\n",
    "    \n",
    "    saver = tf.train.Saver()\n",
    "    \n",
    "    # loading checkpoint\n",
    "    latest_checkpoint = tf.train.latest_checkpoint(checkpoint_dir)\n",
    "    if latest_checkpoint:\n",
    "        print(\"Loading model checkpoint %s ...\" % latest_checkpoint)\n",
    "        saver.restore(sess, latest_checkpoint)\n",
    "    \n",
    "    replay = PrioritizedExperienceReplay()\n",
    "    populate_replay(replay, sess, env)\n",
    "    \n",
    "    # TODO Get the current time step\n",
    "    total_t = sess.run(tf.train.get_global_step())\n",
    "\n",
    "    # epsilon decay schedule for epsilon-greedy policy\n",
    "    epsilons = np.linspace(epsilon_start, epsilon_end, epsilon_decay_steps)\n",
    "\n",
    "    # TODO The policy we're following\n",
    "    policy = make_epsilon_greedy_policy(q_estimator, env.get_action_space())\n",
    "    \n",
    "    # main loop for episodes\n",
    "    for i_episode in range(num_episodes):\n",
    "        print(\"Starting episode %s\" % i_episode)\n",
    "        \n",
    "        # save checkpoint for each episode\n",
    "        saver.save(tf.get_default_session(), checkpoint_path)\n",
    "        \n",
    "        state = env.init_cube()\n",
    "        \n",
    "        # one step in the environment\n",
    "        for t in itertools.count():\n",
    "\n",
    "            # Epsilon for this time step\n",
    "            epsilon = epsilons[min(total_t, epsilon_decay_steps - 1)]"
   ]
  },
  {
   "cell_type": "code",
   "execution_count": 9,
   "metadata": {},
   "outputs": [],
   "source": [
    "def populate_replay(replay, sess, env):\n",
    "    '''\n",
    "    populate replay memory with initial experience\n",
    "    '''\n",
    "    print(\"Populating experience replay...\")\n",
    "    state = env.init_cube()\n",
    "\n",
    "    for i in range(replay.min_size):\n",
    "        action_probs = policy(sess, state, epsilons[min(total_t, epsilon_decay_steps-1)])\n",
    "        action = np.random.choice(np.arange(len(action_probs)), p=action_probs)\n",
    "        next_state, reward, solved = env.take_action(action)\n",
    "\n",
    "        replay_memory.append(Transition(state, action, reward, next_state, solved))\n",
    "        \n",
    "        # we start again if the cube was solved\n",
    "        state = env.init_cube() if solved else next_state"
   ]
  },
  {
   "cell_type": "code",
   "execution_count": 10,
   "metadata": {},
   "outputs": [],
   "source": [
    "def copy_model_parameters(sess, estimator1, estimator2):\n",
    "    '''\n",
    "    Copy the parameters from estimator 1 to estimator 2\n",
    "    '''\n",
    "    e1_params = [t for t in tf.trainable_variables() if t.name.startswith(estimator1.scope)]\n",
    "    e1_params = sorted(e1_params, key=lambda v: v.name)\n",
    "    e2_params = [t for t in tf.trainable_variables() if t.name.startswith(estimator2.scope)]\n",
    "    e2_params = sorted(e2_params, key=lambda v: v.name)\n",
    "\n",
    "    update_ops = []\n",
    "    for e1_v, e2_v in zip(e1_params, e2_params):\n",
    "        op = e2_v.assign(e1_v)\n",
    "        update_ops.append(op)\n",
    "        \n",
    "    sess.run(update_ops)"
   ]
  },
  {
   "cell_type": "markdown",
   "metadata": {},
   "source": [
    "## Main entrypoint"
   ]
  },
  {
   "cell_type": "code",
   "execution_count": 11,
   "metadata": {},
   "outputs": [
    {
     "name": "stderr",
     "output_type": "stream",
     "text": [
      "/usr/local/lib/python3.6/site-packages/tensorflow/python/ops/gradients_impl.py:108: UserWarning: Converting sparse IndexedSlices to a dense Tensor of unknown shape. This may consume a large amount of memory.\n",
      "  \"Converting sparse IndexedSlices to a dense Tensor of unknown shape. \"\n"
     ]
    },
    {
     "name": "stdout",
     "output_type": "stream",
     "text": [
      "Populating experience replay...\n"
     ]
    },
    {
     "ename": "AttributeError",
     "evalue": "'PrioritizedExperienceReplay' object has no attribute 'min_size'",
     "output_type": "error",
     "traceback": [
      "\u001b[0;31m---------------------------------------------------------------------------\u001b[0m",
      "\u001b[0;31mAttributeError\u001b[0m                            Traceback (most recent call last)",
      "\u001b[0;32m<ipython-input-11-16d8fed6400a>\u001b[0m in \u001b[0;36m<module>\u001b[0;34m()\u001b[0m\n\u001b[1;32m      7\u001b[0m     \u001b[0msess\u001b[0m\u001b[0;34m.\u001b[0m\u001b[0mrun\u001b[0m\u001b[0;34m(\u001b[0m\u001b[0mtf\u001b[0m\u001b[0;34m.\u001b[0m\u001b[0mglobal_variables_initializer\u001b[0m\u001b[0;34m(\u001b[0m\u001b[0;34m)\u001b[0m\u001b[0;34m)\u001b[0m\u001b[0;34m\u001b[0m\u001b[0m\n\u001b[1;32m      8\u001b[0m     for t, stats in learning(sess,\n\u001b[0;32m----> 9\u001b[0;31m                              env):\n\u001b[0m\u001b[1;32m     10\u001b[0m         \u001b[0mprint\u001b[0m\u001b[0;34m(\u001b[0m\u001b[0mstats\u001b[0m\u001b[0;34m)\u001b[0m\u001b[0;34m\u001b[0m\u001b[0m\n",
      "\u001b[0;32m<ipython-input-8-f38898a378ab>\u001b[0m in \u001b[0;36mlearning\u001b[0;34m(sess, env)\u001b[0m\n\u001b[1;32m     22\u001b[0m \u001b[0;34m\u001b[0m\u001b[0m\n\u001b[1;32m     23\u001b[0m     \u001b[0mreplay\u001b[0m \u001b[0;34m=\u001b[0m \u001b[0mPrioritizedExperienceReplay\u001b[0m\u001b[0;34m(\u001b[0m\u001b[0;34m)\u001b[0m\u001b[0;34m\u001b[0m\u001b[0m\n\u001b[0;32m---> 24\u001b[0;31m     \u001b[0mpopulate_replay\u001b[0m\u001b[0;34m(\u001b[0m\u001b[0mreplay\u001b[0m\u001b[0;34m,\u001b[0m \u001b[0msess\u001b[0m\u001b[0;34m,\u001b[0m \u001b[0menv\u001b[0m\u001b[0;34m)\u001b[0m\u001b[0;34m\u001b[0m\u001b[0m\n\u001b[0m\u001b[1;32m     25\u001b[0m \u001b[0;34m\u001b[0m\u001b[0m\n\u001b[1;32m     26\u001b[0m     \u001b[0;31m# TODO Get the current time step\u001b[0m\u001b[0;34m\u001b[0m\u001b[0;34m\u001b[0m\u001b[0m\n",
      "\u001b[0;32m<ipython-input-9-5cdb0a65febe>\u001b[0m in \u001b[0;36mpopulate_replay\u001b[0;34m(replay, sess, env)\u001b[0m\n\u001b[1;32m      6\u001b[0m     \u001b[0mstate\u001b[0m \u001b[0;34m=\u001b[0m \u001b[0menv\u001b[0m\u001b[0;34m.\u001b[0m\u001b[0minit_cube\u001b[0m\u001b[0;34m(\u001b[0m\u001b[0;34m)\u001b[0m\u001b[0;34m\u001b[0m\u001b[0m\n\u001b[1;32m      7\u001b[0m \u001b[0;34m\u001b[0m\u001b[0m\n\u001b[0;32m----> 8\u001b[0;31m     \u001b[0;32mfor\u001b[0m \u001b[0mi\u001b[0m \u001b[0;32min\u001b[0m \u001b[0mrange\u001b[0m\u001b[0;34m(\u001b[0m\u001b[0mreplay\u001b[0m\u001b[0;34m.\u001b[0m\u001b[0mmin_size\u001b[0m\u001b[0;34m)\u001b[0m\u001b[0;34m:\u001b[0m\u001b[0;34m\u001b[0m\u001b[0m\n\u001b[0m\u001b[1;32m      9\u001b[0m         \u001b[0maction_probs\u001b[0m \u001b[0;34m=\u001b[0m \u001b[0mpolicy\u001b[0m\u001b[0;34m(\u001b[0m\u001b[0msess\u001b[0m\u001b[0;34m,\u001b[0m \u001b[0mstate\u001b[0m\u001b[0;34m,\u001b[0m \u001b[0mepsilons\u001b[0m\u001b[0;34m[\u001b[0m\u001b[0mmin\u001b[0m\u001b[0;34m(\u001b[0m\u001b[0mtotal_t\u001b[0m\u001b[0;34m,\u001b[0m \u001b[0mepsilon_decay_steps\u001b[0m\u001b[0;34m-\u001b[0m\u001b[0;36m1\u001b[0m\u001b[0;34m)\u001b[0m\u001b[0;34m]\u001b[0m\u001b[0;34m)\u001b[0m\u001b[0;34m\u001b[0m\u001b[0m\n\u001b[1;32m     10\u001b[0m         \u001b[0maction\u001b[0m \u001b[0;34m=\u001b[0m \u001b[0mnp\u001b[0m\u001b[0;34m.\u001b[0m\u001b[0mrandom\u001b[0m\u001b[0;34m.\u001b[0m\u001b[0mchoice\u001b[0m\u001b[0;34m(\u001b[0m\u001b[0mnp\u001b[0m\u001b[0;34m.\u001b[0m\u001b[0marange\u001b[0m\u001b[0;34m(\u001b[0m\u001b[0mlen\u001b[0m\u001b[0;34m(\u001b[0m\u001b[0maction_probs\u001b[0m\u001b[0;34m)\u001b[0m\u001b[0;34m)\u001b[0m\u001b[0;34m,\u001b[0m \u001b[0mp\u001b[0m\u001b[0;34m=\u001b[0m\u001b[0maction_probs\u001b[0m\u001b[0;34m)\u001b[0m\u001b[0;34m\u001b[0m\u001b[0m\n",
      "\u001b[0;31mAttributeError\u001b[0m: 'PrioritizedExperienceReplay' object has no attribute 'min_size'"
     ]
    }
   ],
   "source": [
    "tf.reset_default_graph()\n",
    "\n",
    "env = CubeEnvironment()\n",
    "\n",
    "# main run\n",
    "with tf.Session() as sess:\n",
    "    sess.run(tf.global_variables_initializer())\n",
    "    for t, stats in learning(sess,\n",
    "                             env):\n",
    "        print(stats)"
   ]
  },
  {
   "cell_type": "code",
   "execution_count": null,
   "metadata": {},
   "outputs": [],
   "source": [
    "import sys\n",
    "sys.path"
   ]
  },
  {
   "cell_type": "code",
   "execution_count": null,
   "metadata": {},
   "outputs": [],
   "source": []
  }
 ],
 "metadata": {
  "kernelspec": {
   "display_name": "Python 3",
   "language": "python",
   "name": "python3"
  },
  "language_info": {
   "codemirror_mode": {
    "name": "ipython",
    "version": 3
   },
   "file_extension": ".py",
   "mimetype": "text/x-python",
   "name": "python",
   "nbconvert_exporter": "python",
   "pygments_lexer": "ipython3",
   "version": "3.6.6"
  }
 },
 "nbformat": 4,
 "nbformat_minor": 2
}
